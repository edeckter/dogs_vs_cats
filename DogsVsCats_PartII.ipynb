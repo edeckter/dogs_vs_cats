{
 "cells": [
  {
   "cell_type": "markdown",
   "metadata": {
    "colab_type": "text",
    "id": "UJlN0p7iKhQZ"
   },
   "source": [
    "# Classifying Dogs vs. Cats: Part II\n",
    "### Notebook by Erika Deckter\n",
    "This notebook continues the binary classification model example using the Kaggle Dogs vs. Cats image dataset.  Again, the code is adapted from _Deep Learning with Python_ by Francois Chollet.  This code introduces the idea of using pre-trained CNN models to improve the classification for small datasets."
   ]
  },
  {
   "cell_type": "code",
   "execution_count": 1,
   "metadata": {
    "colab": {
     "base_uri": "https://localhost:8080/",
     "height": 83
    },
    "colab_type": "code",
    "id": "mdbMFMNoKhQi",
    "outputId": "a96393b3-5eb0-421a-c5fa-68354feae635"
   },
   "outputs": [
    {
     "name": "stderr",
     "output_type": "stream",
     "text": [
      "Using TensorFlow backend.\n"
     ]
    }
   ],
   "source": [
    "#Import packages\n",
    "import os\n",
    "import numpy as np\n",
    "import matplotlib.pyplot as plt\n",
    "from keras.preprocessing.image import ImageDataGenerator\n",
    "from tensorflow.keras.applications import VGG16\n",
    "from tensorflow.keras import layers\n",
    "from tensorflow.keras import models\n",
    "from tensorflow.keras import optimizers"
   ]
  },
  {
   "cell_type": "code",
   "execution_count": 4,
   "metadata": {
    "colab": {},
    "colab_type": "code",
    "id": "E7aCLswIKhQ5"
   },
   "outputs": [],
   "source": [
    "#Set data directories\n",
    "base_dir = os.getcwd()+'/data/cats_and_dogs_small'\n",
    "\n",
    "train_dir = os.path.join(base_dir, 'train')                                \n",
    "train_cats_dir = os.path.join(train_dir, 'cats')                           \n",
    "train_dogs_dir = os.path.join(train_dir, 'dogs')                       \n",
    "                                               \n",
    "validation_dir = os.path.join(base_dir, 'validation') \n",
    "validation_cats_dir = os.path.join(validation_dir, 'cats')                                                             \n",
    "validation_dogs_dir = os.path.join(validation_dir, 'dogs')                 \n",
    "                                             \n",
    "test_dir = os.path.join(base_dir, 'test')\n",
    "test_cats_dir = os.path.join(test_dir, 'cats')                                                                              \n",
    "test_dogs_dir = os.path.join(test_dir, 'dogs')                        "
   ]
  },
  {
   "cell_type": "code",
   "execution_count": 5,
   "metadata": {
    "colab": {
     "base_uri": "https://localhost:8080/",
     "height": 127
    },
    "colab_type": "code",
    "id": "4sNfyRT4KhRG",
    "outputId": "98282217-83e2-449d-fb4e-9874230911a1"
   },
   "outputs": [
    {
     "name": "stdout",
     "output_type": "stream",
     "text": [
      "total training cat images: 1000\n",
      "total training dog images: 1000\n",
      "total validation cat images: 500\n",
      "total validation dog images: 500\n",
      "total test cat images: 500\n",
      "total test dog images: 500\n"
     ]
    }
   ],
   "source": [
    "#Check number of files in each directory\n",
    "print('total training cat images:', len(os.listdir(train_cats_dir)))\n",
    "print('total training dog images:', len(os.listdir(train_dogs_dir)))\n",
    "print('total validation cat images:', len(os.listdir(validation_cats_dir)))\n",
    "print('total validation dog images:', len(os.listdir(validation_dogs_dir)))\n",
    "print('total test cat images:', len(os.listdir(test_cats_dir)))\n",
    "print('total test dog images:', len(os.listdir(test_dogs_dir)))"
   ]
  },
  {
   "cell_type": "markdown",
   "metadata": {
    "colab_type": "text",
    "id": "vIMIpt8WKhRT"
   },
   "source": [
    "## Using a Pre-Trained CNN\n",
    "\n",
    "Another way to get improvements in accuracy is to use a CNN that has already been pre-trained on a large set of data, such as ImageNet. We can use just the convolution base of the pre-trained model and throw away the densely connected layers (which are predicting classes or other output that is not consistent with what we want our model to predict.)  \n",
    "\n",
    "For this model, we will use the VGG16 model, which is included in Keras.  The top (dense) layers in the VGG16 model were used to solve a different classification problem, so we will remove them and replace them with our own top layers for binary dog/cat classification.  This works because detecting low-level features such as edges is the same regardless of the final classification tasks, but the high-level features are specific to each problem being solved."
   ]
  },
  {
   "cell_type": "code",
   "execution_count": 6,
   "metadata": {
    "colab": {
     "base_uri": "https://localhost:8080/",
     "height": 974
    },
    "colab_type": "code",
    "id": "N71CHnE6KhRW",
    "outputId": "f9e170ae-6f9a-4a76-9bdb-d25338110922"
   },
   "outputs": [
    {
     "name": "stdout",
     "output_type": "stream",
     "text": [
      "WARNING:tensorflow:From /usr/local/lib/python3.6/dist-packages/tensorflow_core/python/ops/resource_variable_ops.py:1630: calling BaseResourceVariable.__init__ (from tensorflow.python.ops.resource_variable_ops) with constraint is deprecated and will be removed in a future version.\n",
      "Instructions for updating:\n",
      "If using Keras pass *_constraint arguments to layers.\n",
      "Downloading data from https://github.com/fchollet/deep-learning-models/releases/download/v0.1/vgg16_weights_tf_dim_ordering_tf_kernels_notop.h5\n",
      "58892288/58889256 [==============================] - 1s 0us/step\n",
      "Model: \"vgg16\"\n",
      "_________________________________________________________________\n",
      "Layer (type)                 Output Shape              Param #   \n",
      "=================================================================\n",
      "input_1 (InputLayer)         [(None, 150, 150, 3)]     0         \n",
      "_________________________________________________________________\n",
      "block1_conv1 (Conv2D)        (None, 150, 150, 64)      1792      \n",
      "_________________________________________________________________\n",
      "block1_conv2 (Conv2D)        (None, 150, 150, 64)      36928     \n",
      "_________________________________________________________________\n",
      "block1_pool (MaxPooling2D)   (None, 75, 75, 64)        0         \n",
      "_________________________________________________________________\n",
      "block2_conv1 (Conv2D)        (None, 75, 75, 128)       73856     \n",
      "_________________________________________________________________\n",
      "block2_conv2 (Conv2D)        (None, 75, 75, 128)       147584    \n",
      "_________________________________________________________________\n",
      "block2_pool (MaxPooling2D)   (None, 37, 37, 128)       0         \n",
      "_________________________________________________________________\n",
      "block3_conv1 (Conv2D)        (None, 37, 37, 256)       295168    \n",
      "_________________________________________________________________\n",
      "block3_conv2 (Conv2D)        (None, 37, 37, 256)       590080    \n",
      "_________________________________________________________________\n",
      "block3_conv3 (Conv2D)        (None, 37, 37, 256)       590080    \n",
      "_________________________________________________________________\n",
      "block3_pool (MaxPooling2D)   (None, 18, 18, 256)       0         \n",
      "_________________________________________________________________\n",
      "block4_conv1 (Conv2D)        (None, 18, 18, 512)       1180160   \n",
      "_________________________________________________________________\n",
      "block4_conv2 (Conv2D)        (None, 18, 18, 512)       2359808   \n",
      "_________________________________________________________________\n",
      "block4_conv3 (Conv2D)        (None, 18, 18, 512)       2359808   \n",
      "_________________________________________________________________\n",
      "block4_pool (MaxPooling2D)   (None, 9, 9, 512)         0         \n",
      "_________________________________________________________________\n",
      "block5_conv1 (Conv2D)        (None, 9, 9, 512)         2359808   \n",
      "_________________________________________________________________\n",
      "block5_conv2 (Conv2D)        (None, 9, 9, 512)         2359808   \n",
      "_________________________________________________________________\n",
      "block5_conv3 (Conv2D)        (None, 9, 9, 512)         2359808   \n",
      "_________________________________________________________________\n",
      "block5_pool (MaxPooling2D)   (None, 4, 4, 512)         0         \n",
      "=================================================================\n",
      "Total params: 14,714,688\n",
      "Trainable params: 14,714,688\n",
      "Non-trainable params: 0\n",
      "_________________________________________________________________\n"
     ]
    }
   ],
   "source": [
    "#Use the VGG16 model, already included with Keras\n",
    "#Set this model to conv_base variable and throw away the top (densely connected) layers\n",
    "conv_base = VGG16(weights='imagenet',\n",
    "                  include_top=False,\n",
    "                  input_shape=(150, 150, 3))\n",
    "conv_base.summary()"
   ]
  },
  {
   "cell_type": "markdown",
   "metadata": {
    "colab_type": "text",
    "id": "QoUxzy95KhRj"
   },
   "source": [
    "### Extracting Features from Pre-Trained Network\n",
    "We can run the training, validation and testing image datasets through the VGG16 neural network and extract the output features for each image.  The output of the pre-trained network becomes the input to two dense layers (like the top layers we used in the CNN model we built from scratch).\n",
    "\n",
    "If we do not include data augmentation, we can do this step only once and reuse the feature set for each image at every epoch."
   ]
  },
  {
   "cell_type": "code",
   "execution_count": 0,
   "metadata": {
    "colab": {},
    "colab_type": "code",
    "id": "7rLeiPJtKhRn"
   },
   "outputs": [],
   "source": [
    "#Create data generator without data augmentation\n",
    "datagen = ImageDataGenerator(rescale = 1./255)"
   ]
  },
  {
   "cell_type": "code",
   "execution_count": 0,
   "metadata": {
    "colab": {},
    "colab_type": "code",
    "id": "j8XieUc6KhRv"
   },
   "outputs": [],
   "source": [
    "#Create function that extracts features and labels for a dataset by batches\n",
    "def extract_features(directory, sample_count, batch_size):\n",
    "    features = np.zeros(shape=(sample_count, 4, 4, 512))\n",
    "    labels = np.zeros(shape=(sample_count))\n",
    "    generator = datagen.flow_from_directory(directory,\n",
    "                                            target_size=(150, 150),\n",
    "                                            batch_size=batch_size,\n",
    "                                            class_mode='binary')\n",
    "    i = 0\n",
    "    for inputs_batch, labels_batch in generator:\n",
    "        features_batch = conv_base.predict(inputs_batch)\n",
    "        features[i * batch_size : (i + 1) * batch_size] = features_batch\n",
    "        labels[i * batch_size : (i + 1) * batch_size] = labels_batch\n",
    "        i += 1\n",
    "        if i * batch_size >= sample_count:\n",
    "            break\n",
    "    return features, labels"
   ]
  },
  {
   "cell_type": "code",
   "execution_count": 9,
   "metadata": {
    "colab": {
     "base_uri": "https://localhost:8080/",
     "height": 72
    },
    "colab_type": "code",
    "id": "fHN9TlABKhR3",
    "outputId": "8e1c202c-b55c-4221-e243-25bfe9469bb1"
   },
   "outputs": [
    {
     "name": "stdout",
     "output_type": "stream",
     "text": [
      "Found 2000 images belonging to 2 classes.\n",
      "Found 1000 images belonging to 2 classes.\n",
      "Found 1000 images belonging to 2 classes.\n"
     ]
    }
   ],
   "source": [
    "#Extract features for training, validation and test datasets\n",
    "batch = 20\n",
    "train_features, train_labels = extract_features(train_dir, 2000, batch)\n",
    "validation_features, validation_labels = extract_features(validation_dir, 1000, batch)\n",
    "test_features, test_labels = extract_features(test_dir, 1000, batch)"
   ]
  },
  {
   "cell_type": "code",
   "execution_count": 10,
   "metadata": {
    "colab": {
     "base_uri": "https://localhost:8080/",
     "height": 127
    },
    "colab_type": "code",
    "id": "Co6J8PoIKhSF",
    "outputId": "532e290c-fce7-49f6-f3d3-adf90475fce3"
   },
   "outputs": [
    {
     "name": "stdout",
     "output_type": "stream",
     "text": [
      "Training Features Shape:  (2000, 4, 4, 512)\n",
      "Training Labels Shape:  (2000,)\n",
      "Validation Features Shape:  (1000, 4, 4, 512)\n",
      "Validation Labels Shape:  (1000,)\n",
      "Test Features Shape:  (1000, 4, 4, 512)\n",
      "Test Labels Shape:  (1000,)\n"
     ]
    }
   ],
   "source": [
    "#Show shape of extracted features and labels\n",
    "print('Training Features Shape: ', train_features.shape)\n",
    "print('Training Labels Shape: ', train_labels.shape)\n",
    "print('Validation Features Shape: ', validation_features.shape)\n",
    "print('Validation Labels Shape: ', validation_labels.shape)\n",
    "print('Test Features Shape: ', test_features.shape)\n",
    "print('Test Labels Shape: ', test_labels.shape)"
   ]
  },
  {
   "cell_type": "code",
   "execution_count": 11,
   "metadata": {
    "colab": {
     "base_uri": "https://localhost:8080/",
     "height": 72
    },
    "colab_type": "code",
    "id": "pwSLYXfmKhSO",
    "outputId": "18c2bbf9-c631-47ec-97e2-38e5b29b5d5b"
   },
   "outputs": [
    {
     "name": "stdout",
     "output_type": "stream",
     "text": [
      "Flattened Training Features Shape:  (2000, 8192)\n",
      "Flattened Validation Features Shape:  (1000, 8192)\n",
      "Flattened Test Features Shape:  (1000, 8192)\n"
     ]
    }
   ],
   "source": [
    "#Flatten features before using them as the input to the densely connected layers.\n",
    "feature_size = train_features.shape[1]*train_features.shape[2]*train_features.shape[3]\n",
    "\n",
    "train_features = np.reshape(train_features, (train_features.shape[0], feature_size))\n",
    "validation_features = np.reshape(validation_features, (validation_features.shape[0], feature_size))\n",
    "test_features = np.reshape(test_features, (test_features.shape[0], feature_size))\n",
    "\n",
    "print('Flattened Training Features Shape: ', train_features.shape)\n",
    "print('Flattened Validation Features Shape: ', validation_features.shape)\n",
    "print('Flattened Test Features Shape: ', test_features.shape)"
   ]
  },
  {
   "cell_type": "code",
   "execution_count": 0,
   "metadata": {
    "colab": {},
    "colab_type": "code",
    "id": "K2sYSOIeKhSZ"
   },
   "outputs": [],
   "source": [
    "#Function to build dense layers to fit on top of pre-trained VGG16 model\n",
    "def build_top_layers(learning_rate):\n",
    "    model = models.Sequential()\n",
    "    model.add(layers.Dense(256, activation='relu', input_dim=train_features.shape[1]))\n",
    "    model.add(layers.Dropout(0.5))\n",
    "    model.add(layers.Dense(1, activation='sigmoid'))\n",
    "    \n",
    "    model.compile(optimizer=optimizers.RMSprop(lr=learning_rate),\n",
    "    loss='binary_crossentropy',\n",
    "    metrics=['acc'])\n",
    "    \n",
    "    return model"
   ]
  },
  {
   "cell_type": "code",
   "execution_count": 13,
   "metadata": {
    "colab": {
     "base_uri": "https://localhost:8080/",
     "height": 329
    },
    "colab_type": "code",
    "id": "0H6vyfYYKhSj",
    "outputId": "bf50fef4-f39f-4610-a552-f5bdbd16b599"
   },
   "outputs": [
    {
     "name": "stdout",
     "output_type": "stream",
     "text": [
      "WARNING:tensorflow:From /usr/local/lib/python3.6/dist-packages/tensorflow_core/python/ops/nn_impl.py:183: where (from tensorflow.python.ops.array_ops) is deprecated and will be removed in a future version.\n",
      "Instructions for updating:\n",
      "Use tf.where in 2.0, which has the same broadcast rule as np.where\n",
      "Model: \"sequential\"\n",
      "_________________________________________________________________\n",
      "Layer (type)                 Output Shape              Param #   \n",
      "=================================================================\n",
      "dense (Dense)                (None, 256)               2097408   \n",
      "_________________________________________________________________\n",
      "dropout (Dropout)            (None, 256)               0         \n",
      "_________________________________________________________________\n",
      "dense_1 (Dense)              (None, 1)                 257       \n",
      "=================================================================\n",
      "Total params: 2,097,665\n",
      "Trainable params: 2,097,665\n",
      "Non-trainable params: 0\n",
      "_________________________________________________________________\n"
     ]
    }
   ],
   "source": [
    "#Build new model for top layers\n",
    "learning_rate = 2e-5\n",
    "pretrained_model = build_top_layers(learning_rate)\n",
    "pretrained_model.summary()"
   ]
  },
  {
   "cell_type": "code",
   "execution_count": 14,
   "metadata": {
    "colab": {
     "base_uri": "https://localhost:8080/",
     "height": 1000
    },
    "colab_type": "code",
    "id": "SqoaE8qpKhSt",
    "outputId": "e7643bc2-eed2-4804-8e87-3fcb182c7125"
   },
   "outputs": [
    {
     "name": "stdout",
     "output_type": "stream",
     "text": [
      "Train on 2000 samples, validate on 1000 samples\n",
      "Epoch 1/30\n",
      "2000/2000 [==============================] - 1s 389us/sample - loss: 0.5666 - acc: 0.6975 - val_loss: 0.4396 - val_acc: 0.8290\n",
      "Epoch 2/30\n",
      "2000/2000 [==============================] - 1s 280us/sample - loss: 0.4273 - acc: 0.8090 - val_loss: 0.3638 - val_acc: 0.8640\n",
      "Epoch 3/30\n",
      "2000/2000 [==============================] - 1s 256us/sample - loss: 0.3592 - acc: 0.8460 - val_loss: 0.3238 - val_acc: 0.8760\n",
      "Epoch 4/30\n",
      "2000/2000 [==============================] - 1s 277us/sample - loss: 0.3149 - acc: 0.8735 - val_loss: 0.3166 - val_acc: 0.8650\n",
      "Epoch 5/30\n",
      "2000/2000 [==============================] - 1s 263us/sample - loss: 0.2898 - acc: 0.8780 - val_loss: 0.2858 - val_acc: 0.8980\n",
      "Epoch 6/30\n",
      "2000/2000 [==============================] - 1s 268us/sample - loss: 0.2678 - acc: 0.8900 - val_loss: 0.2773 - val_acc: 0.8980\n",
      "Epoch 7/30\n",
      "2000/2000 [==============================] - 1s 264us/sample - loss: 0.2479 - acc: 0.9015 - val_loss: 0.2711 - val_acc: 0.9000\n",
      "Epoch 8/30\n",
      "2000/2000 [==============================] - 1s 265us/sample - loss: 0.2371 - acc: 0.9100 - val_loss: 0.2586 - val_acc: 0.9000\n",
      "Epoch 9/30\n",
      "2000/2000 [==============================] - 1s 283us/sample - loss: 0.2151 - acc: 0.9230 - val_loss: 0.2520 - val_acc: 0.9010\n",
      "Epoch 10/30\n",
      "2000/2000 [==============================] - 1s 286us/sample - loss: 0.2141 - acc: 0.9180 - val_loss: 0.2547 - val_acc: 0.8960\n",
      "Epoch 11/30\n",
      "2000/2000 [==============================] - 0s 238us/sample - loss: 0.1978 - acc: 0.9205 - val_loss: 0.2475 - val_acc: 0.9040\n",
      "Epoch 12/30\n",
      "2000/2000 [==============================] - 1s 272us/sample - loss: 0.1924 - acc: 0.9305 - val_loss: 0.2502 - val_acc: 0.8990\n",
      "Epoch 13/30\n",
      "2000/2000 [==============================] - 1s 275us/sample - loss: 0.1809 - acc: 0.9345 - val_loss: 0.2408 - val_acc: 0.9040\n",
      "Epoch 14/30\n",
      "2000/2000 [==============================] - 0s 235us/sample - loss: 0.1754 - acc: 0.9365 - val_loss: 0.2384 - val_acc: 0.9040\n",
      "Epoch 15/30\n",
      "2000/2000 [==============================] - 1s 280us/sample - loss: 0.1665 - acc: 0.9375 - val_loss: 0.2449 - val_acc: 0.8990\n",
      "Epoch 16/30\n",
      "2000/2000 [==============================] - 0s 242us/sample - loss: 0.1515 - acc: 0.9420 - val_loss: 0.2363 - val_acc: 0.9050\n",
      "Epoch 17/30\n",
      "2000/2000 [==============================] - 1s 283us/sample - loss: 0.1494 - acc: 0.9465 - val_loss: 0.2349 - val_acc: 0.9050\n",
      "Epoch 18/30\n",
      "2000/2000 [==============================] - 0s 248us/sample - loss: 0.1424 - acc: 0.9490 - val_loss: 0.2342 - val_acc: 0.9040\n",
      "Epoch 19/30\n",
      "2000/2000 [==============================] - 1s 283us/sample - loss: 0.1350 - acc: 0.9475 - val_loss: 0.2413 - val_acc: 0.9050\n",
      "Epoch 20/30\n",
      "2000/2000 [==============================] - 0s 242us/sample - loss: 0.1297 - acc: 0.9585 - val_loss: 0.2332 - val_acc: 0.9060\n",
      "Epoch 21/30\n",
      "2000/2000 [==============================] - 1s 277us/sample - loss: 0.1205 - acc: 0.9585 - val_loss: 0.2328 - val_acc: 0.9060\n",
      "Epoch 22/30\n",
      "2000/2000 [==============================] - 0s 241us/sample - loss: 0.1171 - acc: 0.9640 - val_loss: 0.2327 - val_acc: 0.9060\n",
      "Epoch 23/30\n",
      "2000/2000 [==============================] - 1s 276us/sample - loss: 0.1121 - acc: 0.9655 - val_loss: 0.2364 - val_acc: 0.9060\n",
      "Epoch 24/30\n",
      "2000/2000 [==============================] - 0s 248us/sample - loss: 0.1134 - acc: 0.9600 - val_loss: 0.2373 - val_acc: 0.9050\n",
      "Epoch 25/30\n",
      "2000/2000 [==============================] - 1s 279us/sample - loss: 0.1082 - acc: 0.9595 - val_loss: 0.2411 - val_acc: 0.9090\n",
      "Epoch 26/30\n",
      "2000/2000 [==============================] - 1s 263us/sample - loss: 0.1021 - acc: 0.9675 - val_loss: 0.2472 - val_acc: 0.9050\n",
      "Epoch 27/30\n",
      "2000/2000 [==============================] - 1s 277us/sample - loss: 0.1014 - acc: 0.9660 - val_loss: 0.2353 - val_acc: 0.9030\n",
      "Epoch 28/30\n",
      "2000/2000 [==============================] - 1s 311us/sample - loss: 0.0946 - acc: 0.9670 - val_loss: 0.2405 - val_acc: 0.9040\n",
      "Epoch 29/30\n",
      "2000/2000 [==============================] - 1s 277us/sample - loss: 0.0930 - acc: 0.9720 - val_loss: 0.2427 - val_acc: 0.9050\n",
      "Epoch 30/30\n",
      "2000/2000 [==============================] - 0s 245us/sample - loss: 0.0860 - acc: 0.9715 - val_loss: 0.2391 - val_acc: 0.9030\n"
     ]
    }
   ],
   "source": [
    "#Train new top layers using VGG16 extracted features as input\n",
    "history = pretrained_model.fit(train_features, train_labels,\n",
    "                                epochs=30,\n",
    "                                batch_size=20,\n",
    "                                validation_data=(validation_features, validation_labels))"
   ]
  },
  {
   "cell_type": "code",
   "execution_count": 15,
   "metadata": {
    "colab": {
     "base_uri": "https://localhost:8080/",
     "height": 404
    },
    "colab_type": "code",
    "id": "uRCfEafVKhS6",
    "outputId": "989045be-c5e2-4978-ffce-5fd560dd704e"
   },
   "outputs": [
    {
     "data": {
      "image/png": "[encoded data removed]",
      "text/plain": [
       "<Figure size 1080x432 with 2 Axes>"
      ]
     },
     "metadata": {
      "tags": []
     },
     "output_type": "display_data"
    }
   ],
   "source": [
    "#Plot accuracy and loss for pre-trained model\n",
    "train_acc = history.history['acc']\n",
    "validation_acc = history.history['val_acc']\n",
    "train_loss = history.history['loss']\n",
    "validation_loss = history.history['val_loss']\n",
    "\n",
    "epochs = range(1,len(train_acc)+1)\n",
    "\n",
    "fig = plt.figure(figsize=(15,6))\n",
    "#Create accuracy plot\n",
    "fig.add_subplot(1,2,1)\n",
    "plt.plot(epochs, train_acc, 'b-', label='Training Accuracy')\n",
    "plt.plot(epochs, validation_acc, 'g:', label='Validation Accuracy')\n",
    "plt.legend()\n",
    "plt.xlabel('Epochs')\n",
    "plt.ylabel('Model Accuracy')\n",
    "plt.xticks([5,10,15,20,25,30])\n",
    "plt.title('Training and Validation Accuracy of Pre-Trained CNN Model')\n",
    "fig.add_subplot(1,2,2)\n",
    "#Create loss plot\n",
    "plt.plot(epochs, train_loss, 'b-', label='Training Loss')\n",
    "plt.plot(epochs, validation_loss, 'g:', label='Validation Loss')\n",
    "plt.legend()\n",
    "plt.xlabel('Epochs')\n",
    "plt.ylabel('Model Loss')\n",
    "plt.xticks([5,10,15,20,25,30])\n",
    "plt.title('Training and Validation Loss of Pre-Trained CNN Model') \n",
    "plt.show()"
   ]
  },
  {
   "cell_type": "code",
   "execution_count": 16,
   "metadata": {
    "colab": {
     "base_uri": "https://localhost:8080/",
     "height": 605
    },
    "colab_type": "code",
    "id": "PS0dYp29KhTB",
    "outputId": "860350f1-1473-4aee-c895-191dc4f93e85"
   },
   "outputs": [
    {
     "name": "stdout",
     "output_type": "stream",
     "text": [
      "Train on 2000 samples\n",
      "Epoch 1/15\n",
      "2000/2000 [==============================] - 1s 288us/sample - loss: 0.6151 - acc: 0.6620\n",
      "Epoch 2/15\n",
      "2000/2000 [==============================] - 0s 215us/sample - loss: 0.4311 - acc: 0.8050\n",
      "Epoch 3/15\n",
      "2000/2000 [==============================] - 0s 213us/sample - loss: 0.3527 - acc: 0.8470\n",
      "Epoch 4/15\n",
      "2000/2000 [==============================] - 0s 205us/sample - loss: 0.3161 - acc: 0.8695\n",
      "Epoch 5/15\n",
      "2000/2000 [==============================] - 0s 230us/sample - loss: 0.2829 - acc: 0.8870\n",
      "Epoch 6/15\n",
      "2000/2000 [==============================] - 0s 222us/sample - loss: 0.2604 - acc: 0.8970\n",
      "Epoch 7/15\n",
      "2000/2000 [==============================] - 0s 201us/sample - loss: 0.2417 - acc: 0.9090\n",
      "Epoch 8/15\n",
      "2000/2000 [==============================] - 0s 210us/sample - loss: 0.2288 - acc: 0.9145\n",
      "Epoch 9/15\n",
      "2000/2000 [==============================] - 0s 210us/sample - loss: 0.2104 - acc: 0.9215\n",
      "Epoch 10/15\n",
      "2000/2000 [==============================] - 0s 222us/sample - loss: 0.2047 - acc: 0.9205\n",
      "Epoch 11/15\n",
      "2000/2000 [==============================] - 0s 215us/sample - loss: 0.1915 - acc: 0.9300\n",
      "Epoch 12/15\n",
      "2000/2000 [==============================] - 0s 211us/sample - loss: 0.1805 - acc: 0.9350\n",
      "Epoch 13/15\n",
      "2000/2000 [==============================] - 0s 215us/sample - loss: 0.1706 - acc: 0.9410\n",
      "Epoch 14/15\n",
      "2000/2000 [==============================] - 0s 225us/sample - loss: 0.1646 - acc: 0.9410\n",
      "Epoch 15/15\n",
      "2000/2000 [==============================] - 1s 253us/sample - loss: 0.1582 - acc: 0.9470\n"
     ]
    },
    {
     "data": {
      "text/plain": [
       "<tensorflow.python.keras.callbacks.History at 0x7fbf6607f1d0>"
      ]
     },
     "execution_count": 16,
     "metadata": {
      "tags": []
     },
     "output_type": "execute_result"
    }
   ],
   "source": [
    "#Retrain model 15 epochs to avoid overfitting\n",
    "pretrained_model = build_top_layers(learning_rate)\n",
    "\n",
    "pretrained_model.fit(train_features, train_labels,\n",
    "                     epochs=15,\n",
    "                     batch_size=20)"
   ]
  },
  {
   "cell_type": "code",
   "execution_count": 19,
   "metadata": {
    "colab": {
     "base_uri": "https://localhost:8080/",
     "height": 72
    },
    "colab_type": "code",
    "id": "ndBdTtgpKhTL",
    "outputId": "60863c11-2562-4145-f173-48e01cfdc37f"
   },
   "outputs": [
    {
     "name": "stdout",
     "output_type": "stream",
     "text": [
      "1000/1000 [==============================] - 0s 124us/sample - loss: 0.2587 - acc: 0.8880\n",
      "Test Loss for Pre-Trained Model: 0.2587\n",
      "Test Accuracy for Pre-Trained Model: 88.80%\n"
     ]
    }
   ],
   "source": [
    "#Evaluate pre-trained model on test data (to see how it performs on new, unseen data)\n",
    "test_loss, test_accuracy = pretrained_model.evaluate(test_features, test_labels)\n",
    "print('Test Loss for Pre-Trained Model: {:.4f}'.format(test_loss))\n",
    "print('Test Accuracy for Pre-Trained Model: {:.2%}'.format(test_accuracy))"
   ]
  },
  {
   "cell_type": "markdown",
   "metadata": {
    "colab_type": "text",
    "id": "Sm33VkXAKhTR"
   },
   "source": [
    "### Data Augmentation with a Pre-Trained CNN Model\n",
    "In order to use data augmentation, we need to feed the augmented images into the full network (including the convolution base).  This requires more compute power, but should generate even more accurate results."
   ]
  },
  {
   "cell_type": "code",
   "execution_count": 20,
   "metadata": {
    "colab": {
     "base_uri": "https://localhost:8080/",
     "height": 72
    },
    "colab_type": "code",
    "id": "aAABW7qEKhTT",
    "outputId": "1ddff429-14de-42cd-bf26-21034b202c8b"
   },
   "outputs": [
    {
     "name": "stdout",
     "output_type": "stream",
     "text": [
      "Found 2000 images belonging to 2 classes.\n",
      "Found 1000 images belonging to 2 classes.\n",
      "Found 1000 images belonging to 2 classes.\n"
     ]
    }
   ],
   "source": [
    "#Create image generator with data augmentation parameters for training data\n",
    "#Note: Transformations should NOT be performed on validation/test data\n",
    "train_datagen_augmented = ImageDataGenerator(\n",
    "    rescale=1./255,\n",
    "    rotation_range=40,\n",
    "    width_shift_range=0.2,\n",
    "    height_shift_range=0.2,\n",
    "    shear_range=0.2,\n",
    "    zoom_range=0.2,\n",
    "    horizontal_flip=True,\n",
    "    fill_mode='nearest')\n",
    "\n",
    "#Create generator\n",
    "train_augmented_generator = train_datagen_augmented.flow_from_directory(\n",
    "        train_dir,                                             \n",
    "        target_size=(150, 150), #Resize image to 150x150\n",
    "        batch_size=20, #Set each batch to contain 20 cute dogs or cats\n",
    "        class_mode='binary') #Assign a binary class (cat or dog)\n",
    "\n",
    "#Build data generator for validation/test data\n",
    "test_datagen = ImageDataGenerator(rescale=1./255)\n",
    "\n",
    "validation_generator = test_datagen.flow_from_directory(\n",
    "        validation_dir,\n",
    "        target_size=(150, 150),\n",
    "        batch_size=20,\n",
    "        class_mode='binary')\n",
    "\n",
    "test_generator = test_datagen.flow_from_directory(\n",
    "        test_dir,\n",
    "        target_size=(150, 150),\n",
    "        batch_size=20,\n",
    "        class_mode='binary')"
   ]
  },
  {
   "cell_type": "code",
   "execution_count": 0,
   "metadata": {
    "colab": {},
    "colab_type": "code",
    "id": "3QiVDDRfKhTf"
   },
   "outputs": [],
   "source": [
    "#Build top layers on top of convolution base from VGG model\n",
    "def build_pretrained_model(learning_rate):\n",
    "    model = models.Sequential()\n",
    "    model.add(conv_base)\n",
    "    model.add(layers.Flatten())\n",
    "    model.add(layers.Dense(256, activation='relu'))\n",
    "    model.add(layers.Dense(1, activation='sigmoid'))\n",
    "    \n",
    "    #Freeze convolution base weights\n",
    "    conv_base.trainable = False\n",
    "    \n",
    "    model.compile(loss='binary_crossentropy',\n",
    "                  optimizer=optimizers.RMSprop(lr=learning_rate),\n",
    "                  metrics=['acc'])\n",
    "    \n",
    "    return model"
   ]
  },
  {
   "cell_type": "code",
   "execution_count": 34,
   "metadata": {
    "colab": {
     "base_uri": "https://localhost:8080/",
     "height": 311
    },
    "colab_type": "code",
    "id": "x2WMKkNZKhTo",
    "outputId": "3bcbc797-75fe-4523-a7eb-17cf4be5d508"
   },
   "outputs": [
    {
     "name": "stdout",
     "output_type": "stream",
     "text": [
      "Model: \"sequential_4\"\n",
      "_________________________________________________________________\n",
      "Layer (type)                 Output Shape              Param #   \n",
      "=================================================================\n",
      "vgg16 (Model)                (None, 4, 4, 512)         14714688  \n",
      "_________________________________________________________________\n",
      "flatten_2 (Flatten)          (None, 8192)              0         \n",
      "_________________________________________________________________\n",
      "dense_8 (Dense)              (None, 256)               2097408   \n",
      "_________________________________________________________________\n",
      "dense_9 (Dense)              (None, 1)                 257       \n",
      "=================================================================\n",
      "Total params: 16,812,353\n",
      "Trainable params: 2,097,665\n",
      "Non-trainable params: 14,714,688\n",
      "_________________________________________________________________\n"
     ]
    }
   ],
   "source": [
    "learning_rate = 2e-5\n",
    "final_model = build_pretrained_model(learning_rate)\n",
    "final_model.summary()"
   ]
  },
  {
   "cell_type": "code",
   "execution_count": 35,
   "metadata": {
    "colab": {
     "base_uri": "https://localhost:8080/",
     "height": 1000
    },
    "colab_type": "code",
    "id": "bAJYAlbcKhTv",
    "outputId": "27d9f917-f215-4855-b38f-d005e3bde026"
   },
   "outputs": [
    {
     "name": "stdout",
     "output_type": "stream",
     "text": [
      "Epoch 1/30\n",
      " 99/100 [============================>.] - ETA: 0s - loss: 0.3955 - acc: 0.8561Epoch 1/30\n",
      "100/100 [==============================] - 23s 226ms/step - loss: 0.3942 - acc: 0.8565 - val_loss: 0.2213 - val_acc: 0.9160\n",
      "Epoch 2/30\n",
      " 99/100 [============================>.] - ETA: 0s - loss: 0.2047 - acc: 0.9394Epoch 1/30\n",
      "100/100 [==============================] - 22s 217ms/step - loss: 0.2045 - acc: 0.9395 - val_loss: 0.1897 - val_acc: 0.9170\n",
      "Epoch 3/30\n",
      " 99/100 [============================>.] - ETA: 0s - loss: 0.1480 - acc: 0.9641Epoch 1/30\n",
      "100/100 [==============================] - 21s 212ms/step - loss: 0.1482 - acc: 0.9640 - val_loss: 0.1656 - val_acc: 0.9260\n",
      "Epoch 4/30\n",
      " 99/100 [============================>.] - ETA: 0s - loss: 0.1171 - acc: 0.9662Epoch 1/30\n",
      "100/100 [==============================] - 21s 213ms/step - loss: 0.1177 - acc: 0.9660 - val_loss: 0.1598 - val_acc: 0.9300\n",
      "Epoch 5/30\n",
      " 99/100 [============================>.] - ETA: 0s - loss: 0.1113 - acc: 0.9576Epoch 1/30\n",
      "100/100 [==============================] - 21s 213ms/step - loss: 0.1112 - acc: 0.9575 - val_loss: 0.1614 - val_acc: 0.9320\n",
      "Epoch 6/30\n",
      " 99/100 [============================>.] - ETA: 0s - loss: 0.0940 - acc: 0.9717Epoch 1/30\n",
      "100/100 [==============================] - 21s 207ms/step - loss: 0.0942 - acc: 0.9715 - val_loss: 0.1646 - val_acc: 0.9300\n",
      "Epoch 7/30\n",
      " 99/100 [============================>.] - ETA: 0s - loss: 0.0867 - acc: 0.9737Epoch 1/30\n",
      "100/100 [==============================] - 21s 208ms/step - loss: 0.0874 - acc: 0.9735 - val_loss: 0.1713 - val_acc: 0.9270\n",
      "Epoch 8/30\n",
      " 99/100 [============================>.] - ETA: 0s - loss: 0.0855 - acc: 0.9732Epoch 1/30\n",
      "100/100 [==============================] - 21s 213ms/step - loss: 0.0853 - acc: 0.9735 - val_loss: 0.1701 - val_acc: 0.9300\n",
      "Epoch 9/30\n",
      " 99/100 [============================>.] - ETA: 0s - loss: 0.0863 - acc: 0.9687Epoch 1/30\n",
      "100/100 [==============================] - 21s 213ms/step - loss: 0.0858 - acc: 0.9690 - val_loss: 0.1675 - val_acc: 0.9330\n",
      "Epoch 10/30\n",
      " 99/100 [============================>.] - ETA: 0s - loss: 0.0807 - acc: 0.9763Epoch 1/30\n",
      "100/100 [==============================] - 21s 209ms/step - loss: 0.0802 - acc: 0.9765 - val_loss: 0.1750 - val_acc: 0.9330\n",
      "Epoch 11/30\n",
      " 99/100 [============================>.] - ETA: 0s - loss: 0.0821 - acc: 0.9692Epoch 1/30\n",
      "100/100 [==============================] - 22s 216ms/step - loss: 0.0818 - acc: 0.9695 - val_loss: 0.1783 - val_acc: 0.9330\n",
      "Epoch 12/30\n",
      " 99/100 [============================>.] - ETA: 0s - loss: 0.0762 - acc: 0.9712Epoch 1/30\n",
      "100/100 [==============================] - 21s 210ms/step - loss: 0.0762 - acc: 0.9710 - val_loss: 0.1735 - val_acc: 0.9380\n",
      "Epoch 13/30\n",
      " 99/100 [============================>.] - ETA: 0s - loss: 0.0668 - acc: 0.9747Epoch 1/30\n",
      "100/100 [==============================] - 21s 208ms/step - loss: 0.0670 - acc: 0.9745 - val_loss: 0.1747 - val_acc: 0.9330\n",
      "Epoch 14/30\n",
      " 99/100 [============================>.] - ETA: 0s - loss: 0.0651 - acc: 0.9778Epoch 1/30\n",
      "100/100 [==============================] - 21s 212ms/step - loss: 0.0648 - acc: 0.9780 - val_loss: 0.1754 - val_acc: 0.9310\n",
      "Epoch 15/30\n",
      " 99/100 [============================>.] - ETA: 0s - loss: 0.0566 - acc: 0.9808Epoch 1/30\n",
      "100/100 [==============================] - 21s 209ms/step - loss: 0.0564 - acc: 0.9810 - val_loss: 0.1795 - val_acc: 0.9340\n",
      "Epoch 16/30\n",
      " 99/100 [============================>.] - ETA: 0s - loss: 0.0586 - acc: 0.9788Epoch 1/30\n",
      "100/100 [==============================] - 21s 210ms/step - loss: 0.0584 - acc: 0.9790 - val_loss: 0.1849 - val_acc: 0.9330\n",
      "Epoch 17/30\n",
      " 99/100 [============================>.] - ETA: 0s - loss: 0.0604 - acc: 0.9788Epoch 1/30\n",
      "100/100 [==============================] - 21s 211ms/step - loss: 0.0598 - acc: 0.9790 - val_loss: 0.1879 - val_acc: 0.9320\n",
      "Epoch 18/30\n",
      " 99/100 [============================>.] - ETA: 0s - loss: 0.0646 - acc: 0.9763Epoch 1/30\n",
      "100/100 [==============================] - 21s 206ms/step - loss: 0.0641 - acc: 0.9765 - val_loss: 0.1841 - val_acc: 0.9330\n",
      "Epoch 19/30\n",
      " 99/100 [============================>.] - ETA: 0s - loss: 0.0523 - acc: 0.9843Epoch 1/30\n",
      "100/100 [==============================] - 21s 211ms/step - loss: 0.0524 - acc: 0.9845 - val_loss: 0.1859 - val_acc: 0.9320\n",
      "Epoch 20/30\n",
      " 99/100 [============================>.] - ETA: 0s - loss: 0.0602 - acc: 0.9808Epoch 1/30\n",
      "100/100 [==============================] - 21s 209ms/step - loss: 0.0598 - acc: 0.9810 - val_loss: 0.1931 - val_acc: 0.9290\n",
      "Epoch 21/30\n",
      " 99/100 [============================>.] - ETA: 0s - loss: 0.0589 - acc: 0.9783Epoch 1/30\n",
      "100/100 [==============================] - 21s 207ms/step - loss: 0.0584 - acc: 0.9785 - val_loss: 0.2069 - val_acc: 0.9230\n",
      "Epoch 22/30\n",
      " 99/100 [============================>.] - ETA: 0s - loss: 0.0561 - acc: 0.9788Epoch 1/30\n",
      "100/100 [==============================] - 21s 212ms/step - loss: 0.0561 - acc: 0.9785 - val_loss: 0.1883 - val_acc: 0.9320\n",
      "Epoch 23/30\n",
      " 99/100 [============================>.] - ETA: 0s - loss: 0.0550 - acc: 0.9783Epoch 1/30\n",
      "100/100 [==============================] - 21s 207ms/step - loss: 0.0546 - acc: 0.9785 - val_loss: 0.1960 - val_acc: 0.9340\n",
      "Epoch 24/30\n",
      " 99/100 [============================>.] - ETA: 0s - loss: 0.0501 - acc: 0.9803Epoch 1/30\n",
      "100/100 [==============================] - 21s 206ms/step - loss: 0.0502 - acc: 0.9805 - val_loss: 0.2028 - val_acc: 0.9290\n",
      "Epoch 25/30\n",
      " 99/100 [============================>.] - ETA: 0s - loss: 0.0504 - acc: 0.9818Epoch 1/30\n",
      "100/100 [==============================] - 21s 212ms/step - loss: 0.0499 - acc: 0.9820 - val_loss: 0.1935 - val_acc: 0.9310\n",
      "Epoch 26/30\n",
      " 99/100 [============================>.] - ETA: 0s - loss: 0.0471 - acc: 0.9833Epoch 1/30\n",
      "100/100 [==============================] - 21s 212ms/step - loss: 0.0467 - acc: 0.9835 - val_loss: 0.2136 - val_acc: 0.9260\n",
      "Epoch 27/30\n",
      " 99/100 [============================>.] - ETA: 0s - loss: 0.0575 - acc: 0.9813Epoch 1/30\n",
      "100/100 [==============================] - 21s 209ms/step - loss: 0.0579 - acc: 0.9815 - val_loss: 0.2124 - val_acc: 0.9260\n",
      "Epoch 28/30\n",
      " 99/100 [============================>.] - ETA: 0s - loss: 0.0499 - acc: 0.9788Epoch 1/30\n",
      "100/100 [==============================] - 21s 213ms/step - loss: 0.0495 - acc: 0.9790 - val_loss: 0.2132 - val_acc: 0.9230\n",
      "Epoch 29/30\n",
      " 99/100 [============================>.] - ETA: 0s - loss: 0.0482 - acc: 0.9828Epoch 1/30\n",
      "100/100 [==============================] - 21s 207ms/step - loss: 0.0479 - acc: 0.9830 - val_loss: 0.2005 - val_acc: 0.9290\n",
      "Epoch 30/30\n",
      " 99/100 [============================>.] - ETA: 0s - loss: 0.0483 - acc: 0.9833Epoch 1/30\n",
      "100/100 [==============================] - 21s 208ms/step - loss: 0.0484 - acc: 0.9830 - val_loss: 0.2111 - val_acc: 0.9280\n"
     ]
    }
   ],
   "source": [
    "#Train model using pre-trained VGG16 and data augmentation\n",
    "history = final_model.fit_generator(train_augmented_generator,\n",
    "                                    steps_per_epoch=100,\n",
    "                                    epochs=30,\n",
    "                                    validation_data=validation_generator,\n",
    "                                    validation_steps=50)"
   ]
  },
  {
   "cell_type": "code",
   "execution_count": 36,
   "metadata": {
    "colab": {
     "base_uri": "https://localhost:8080/",
     "height": 419
    },
    "colab_type": "code",
    "id": "I_kL0lHFKhT4",
    "outputId": "6b058982-d467-431f-95b2-473e4bad1420"
   },
   "outputs": [
    {
     "data": {
      "image/png": "[encoded data removed]",
      "text/plain": [
       "<Figure size 1080x432 with 2 Axes>"
      ]
     },
     "metadata": {
      "tags": []
     },
     "output_type": "display_data"
    }
   ],
   "source": [
    "#Plot accuracy and loss for pre-trained model with data augmentation\n",
    "train_acc = history.history['acc']\n",
    "validation_acc = history.history['val_acc']\n",
    "train_loss = history.history['loss']\n",
    "validation_loss = history.history['val_loss']\n",
    "\n",
    "epochs = range(1,len(train_acc)+1)\n",
    "\n",
    "fig = plt.figure(figsize=(15,6))\n",
    "#Create accuracy plot\n",
    "fig.add_subplot(1,2,1)\n",
    "plt.plot(epochs, train_acc, 'b-', label='Training Accuracy')\n",
    "plt.plot(epochs, validation_acc, 'g:', label='Validation Accuracy')\n",
    "plt.legend()\n",
    "plt.xlabel('Epochs')\n",
    "plt.ylabel('Model Accuracy')\n",
    "plt.xticks([5,10,15,20,25,30])\n",
    "plt.title('Training and Validation Accuracy\\nof Pre-Trained CNN Model with Data Augmentation')\n",
    "fig.add_subplot(1,2,2)\n",
    "#Create loss plot\n",
    "plt.plot(epochs, train_loss, 'b-', label='Training Loss')\n",
    "plt.plot(epochs, validation_loss, 'g:', label='Validation Loss')\n",
    "plt.legend()\n",
    "plt.xlabel('Epochs')\n",
    "plt.ylabel('Model Loss')\n",
    "plt.xticks([5,10,15,20,25,30])\n",
    "plt.title('Training and Validation Loss\\nof Pre-Trained CNN Model with Data Augmentation') \n",
    "plt.show()"
   ]
  },
  {
   "cell_type": "code",
   "execution_count": 37,
   "metadata": {
    "colab": {
     "base_uri": "https://localhost:8080/",
     "height": 54
    },
    "colab_type": "code",
    "id": "hvVOCuecrYOi",
    "outputId": "bb5aa58d-bb7c-4f33-f0b5-f82a51f9dcf0"
   },
   "outputs": [
    {
     "name": "stdout",
     "output_type": "stream",
     "text": [
      "Test Loss for Pre-Trained Model with Data Augmentation: 0.2458\n",
      "Test Accuracy for Pre-Trained Model with Data Augmentation: 92.80%\n"
     ]
    }
   ],
   "source": [
    "#Evaluate pre-trained model on test data with data augmentation\n",
    "test_loss, test_accuracy = final_model.evaluate_generator(test_generator, steps=50)\n",
    "print('Test Loss for Pre-Trained Model with Data Augmentation: {:.4f}'.format(test_loss))\n",
    "print('Test Accuracy for Pre-Trained Model with Data Augmentation: {:.2%}'.format(test_accuracy))"
   ]
  },
  {
   "cell_type": "markdown",
   "metadata": {
    "colab_type": "text",
    "id": "HiIQhtv2KhUA"
   },
   "source": [
    "### Fine-Tuning Convolution Base Weights\n",
    "In order to further improve the accuracy of the model, we can fine-tune the weights of the last block (block 5) of the convolution base.  This is done by unfreezing the weights of the top block *after* the top layers have already been trained and then continuing to train the model.  This doesn't undo the pre-training because the initial weights of the top layers are no longer random (they are pretty close to their final weights).  \n",
    "\n",
    "For this, we will need to recompile the model, but we will not want to rebuild the model from scratch."
   ]
  },
  {
   "cell_type": "code",
   "execution_count": 38,
   "metadata": {
    "colab": {
     "base_uri": "https://localhost:8080/",
     "height": 366
    },
    "colab_type": "code",
    "id": "tWbtRubtKhUC",
    "outputId": "bfbe88ff-bf6c-4bb0-8b32-699a6a8eee82"
   },
   "outputs": [
    {
     "name": "stdout",
     "output_type": "stream",
     "text": [
      "Layer input_1 is now trainable. False\n",
      "Layer block1_conv1 is now trainable. False\n",
      "Layer block1_conv2 is now trainable. False\n",
      "Layer block1_pool is now trainable. False\n",
      "Layer block2_conv1 is now trainable. False\n",
      "Layer block2_conv2 is now trainable. False\n",
      "Layer block2_pool is now trainable. False\n",
      "Layer block3_conv1 is now trainable. False\n",
      "Layer block3_conv2 is now trainable. False\n",
      "Layer block3_conv3 is now trainable. False\n",
      "Layer block3_pool is now trainable. False\n",
      "Layer block4_conv1 is now trainable. False\n",
      "Layer block4_conv2 is now trainable. False\n",
      "Layer block4_conv3 is now trainable. False\n",
      "Layer block4_pool is now trainable. False\n",
      "Layer block5_conv1 is now trainable. True\n",
      "Layer block5_conv2 is now trainable. True\n",
      "Layer block5_conv3 is now trainable. True\n",
      "Layer block5_pool is now trainable. True\n"
     ]
    }
   ],
   "source": [
    "#Unfreeze layers in block 5\n",
    "conv_base.trainable = True\n",
    "\n",
    "for layer in conv_base.layers:\n",
    "    if 'block5' in layer.name:\n",
    "        layer.trainable = True\n",
    "    else:\n",
    "        layer.trainable = False\n",
    "    print('Layer {:s} is now trainable. {:}'.format(layer.name, layer.trainable))"
   ]
  },
  {
   "cell_type": "code",
   "execution_count": 39,
   "metadata": {
    "colab": {
     "base_uri": "https://localhost:8080/",
     "height": 311
    },
    "colab_type": "code",
    "id": "7GINtOWiKhUK",
    "outputId": "e8986c9c-30b3-4779-ab00-1b01bfb86caf"
   },
   "outputs": [
    {
     "name": "stdout",
     "output_type": "stream",
     "text": [
      "Model: \"sequential_4\"\n",
      "_________________________________________________________________\n",
      "Layer (type)                 Output Shape              Param #   \n",
      "=================================================================\n",
      "vgg16 (Model)                (None, 4, 4, 512)         14714688  \n",
      "_________________________________________________________________\n",
      "flatten_2 (Flatten)          (None, 8192)              0         \n",
      "_________________________________________________________________\n",
      "dense_8 (Dense)              (None, 256)               2097408   \n",
      "_________________________________________________________________\n",
      "dense_9 (Dense)              (None, 1)                 257       \n",
      "=================================================================\n",
      "Total params: 16,812,353\n",
      "Trainable params: 9,177,089\n",
      "Non-trainable params: 7,635,264\n",
      "_________________________________________________________________\n"
     ]
    }
   ],
   "source": [
    "#Recompile model\n",
    "learning_rate = 1e-5\n",
    "final_model.compile(loss='binary_crossentropy',\n",
    "                    optimizer=optimizers.RMSprop(lr=learning_rate),\n",
    "                    metrics=['acc'])\n",
    "\n",
    "#Review summary and notice there are now more trainable layers\n",
    "final_model.summary()"
   ]
  },
  {
   "cell_type": "code",
   "execution_count": 40,
   "metadata": {
    "colab": {
     "base_uri": "https://localhost:8080/",
     "height": 1000
    },
    "colab_type": "code",
    "id": "qRUYnp6bKhUR",
    "outputId": "b7194f44-b833-4ad7-f912-026ce3e0f2ea"
   },
   "outputs": [
    {
     "name": "stdout",
     "output_type": "stream",
     "text": [
      "Epoch 1/50\n",
      " 99/100 [============================>.] - ETA: 0s - loss: 0.0744 - acc: 0.9732Epoch 1/50\n",
      "100/100 [==============================] - 23s 235ms/step - loss: 0.0737 - acc: 0.9735 - val_loss: 0.2075 - val_acc: 0.9300\n",
      "Epoch 2/50\n",
      " 99/100 [============================>.] - ETA: 0s - loss: 0.0630 - acc: 0.9768Epoch 1/50\n",
      "100/100 [==============================] - 22s 218ms/step - loss: 0.0631 - acc: 0.9770 - val_loss: 0.2360 - val_acc: 0.9290\n",
      "Epoch 3/50\n",
      " 99/100 [============================>.] - ETA: 0s - loss: 0.0623 - acc: 0.9778Epoch 1/50\n",
      "100/100 [==============================] - 21s 212ms/step - loss: 0.0619 - acc: 0.9780 - val_loss: 0.2124 - val_acc: 0.9340\n",
      "Epoch 4/50\n",
      " 99/100 [============================>.] - ETA: 0s - loss: 0.0660 - acc: 0.9788Epoch 1/50\n",
      "100/100 [==============================] - 21s 213ms/step - loss: 0.0657 - acc: 0.9790 - val_loss: 0.2337 - val_acc: 0.9230\n",
      "Epoch 5/50\n",
      " 99/100 [============================>.] - ETA: 0s - loss: 0.0634 - acc: 0.9793Epoch 1/50\n",
      "100/100 [==============================] - 22s 215ms/step - loss: 0.0634 - acc: 0.9790 - val_loss: 0.2538 - val_acc: 0.9280\n",
      "Epoch 6/50\n",
      " 99/100 [============================>.] - ETA: 0s - loss: 0.0573 - acc: 0.9773Epoch 1/50\n",
      "100/100 [==============================] - 22s 215ms/step - loss: 0.0586 - acc: 0.9770 - val_loss: 0.2091 - val_acc: 0.9390\n",
      "Epoch 7/50\n",
      " 99/100 [============================>.] - ETA: 0s - loss: 0.0692 - acc: 0.9727Epoch 1/50\n",
      "100/100 [==============================] - 21s 213ms/step - loss: 0.0689 - acc: 0.9725 - val_loss: 0.2620 - val_acc: 0.9250\n",
      "Epoch 8/50\n",
      " 99/100 [============================>.] - ETA: 0s - loss: 0.0520 - acc: 0.9768Epoch 1/50\n",
      "100/100 [==============================] - 21s 214ms/step - loss: 0.0518 - acc: 0.9770 - val_loss: 0.2078 - val_acc: 0.9300\n",
      "Epoch 9/50\n",
      " 99/100 [============================>.] - ETA: 0s - loss: 0.0477 - acc: 0.9813Epoch 1/50\n",
      "100/100 [==============================] - 22s 216ms/step - loss: 0.0482 - acc: 0.9810 - val_loss: 0.2575 - val_acc: 0.9270\n",
      "Epoch 10/50\n",
      " 99/100 [============================>.] - ETA: 0s - loss: 0.0434 - acc: 0.9859Epoch 1/50\n",
      "100/100 [==============================] - 21s 215ms/step - loss: 0.0434 - acc: 0.9855 - val_loss: 0.2547 - val_acc: 0.9250\n",
      "Epoch 11/50\n",
      " 99/100 [============================>.] - ETA: 0s - loss: 0.0564 - acc: 0.9768Epoch 1/50\n",
      "100/100 [==============================] - 21s 211ms/step - loss: 0.0559 - acc: 0.9770 - val_loss: 0.2093 - val_acc: 0.9340\n",
      "Epoch 12/50\n",
      " 99/100 [============================>.] - ETA: 0s - loss: 0.0574 - acc: 0.9768Epoch 1/50\n",
      "100/100 [==============================] - 21s 214ms/step - loss: 0.0577 - acc: 0.9770 - val_loss: 0.2069 - val_acc: 0.9350\n",
      "Epoch 13/50\n",
      " 99/100 [============================>.] - ETA: 0s - loss: 0.0429 - acc: 0.9879Epoch 1/50\n",
      "100/100 [==============================] - 21s 213ms/step - loss: 0.0439 - acc: 0.9870 - val_loss: 0.2260 - val_acc: 0.9370\n",
      "Epoch 14/50\n",
      " 99/100 [============================>.] - ETA: 0s - loss: 0.0479 - acc: 0.9813Epoch 1/50\n",
      "100/100 [==============================] - 21s 212ms/step - loss: 0.0480 - acc: 0.9810 - val_loss: 0.2755 - val_acc: 0.9210\n",
      "Epoch 15/50\n",
      " 99/100 [============================>.] - ETA: 0s - loss: 0.0410 - acc: 0.9874Epoch 1/50\n",
      "100/100 [==============================] - 21s 212ms/step - loss: 0.0445 - acc: 0.9865 - val_loss: 0.2177 - val_acc: 0.9360\n",
      "Epoch 16/50\n",
      " 99/100 [============================>.] - ETA: 0s - loss: 0.0386 - acc: 0.9833Epoch 1/50\n",
      "100/100 [==============================] - 21s 214ms/step - loss: 0.0385 - acc: 0.9835 - val_loss: 0.2197 - val_acc: 0.9390\n",
      "Epoch 17/50\n",
      " 99/100 [============================>.] - ETA: 0s - loss: 0.0381 - acc: 0.9864Epoch 1/50\n",
      "100/100 [==============================] - 21s 207ms/step - loss: 0.0378 - acc: 0.9865 - val_loss: 0.2170 - val_acc: 0.9370\n",
      "Epoch 18/50\n",
      " 99/100 [============================>.] - ETA: 0s - loss: 0.0475 - acc: 0.9859Epoch 1/50\n",
      "100/100 [==============================] - 21s 212ms/step - loss: 0.0472 - acc: 0.9860 - val_loss: 0.3691 - val_acc: 0.9210\n",
      "Epoch 19/50\n",
      " 99/100 [============================>.] - ETA: 0s - loss: 0.0351 - acc: 0.9843Epoch 1/50\n",
      "100/100 [==============================] - 22s 217ms/step - loss: 0.0349 - acc: 0.9845 - val_loss: 0.2120 - val_acc: 0.9450\n",
      "Epoch 20/50\n",
      " 99/100 [============================>.] - ETA: 0s - loss: 0.0396 - acc: 0.9854Epoch 1/50\n",
      "100/100 [==============================] - 21s 212ms/step - loss: 0.0392 - acc: 0.9855 - val_loss: 0.2115 - val_acc: 0.9400\n",
      "Epoch 21/50\n",
      " 99/100 [============================>.] - ETA: 0s - loss: 0.0329 - acc: 0.9894Epoch 1/50\n",
      "100/100 [==============================] - 21s 210ms/step - loss: 0.0330 - acc: 0.9895 - val_loss: 0.2568 - val_acc: 0.9310\n",
      "Epoch 22/50\n",
      " 99/100 [============================>.] - ETA: 0s - loss: 0.0421 - acc: 0.9859Epoch 1/50\n",
      "100/100 [==============================] - 21s 214ms/step - loss: 0.0417 - acc: 0.9860 - val_loss: 0.2419 - val_acc: 0.9360\n",
      "Epoch 23/50\n",
      " 99/100 [============================>.] - ETA: 0s - loss: 0.0431 - acc: 0.9813Epoch 1/50\n",
      "100/100 [==============================] - 21s 214ms/step - loss: 0.0433 - acc: 0.9810 - val_loss: 0.2321 - val_acc: 0.9390\n",
      "Epoch 24/50\n",
      " 99/100 [============================>.] - ETA: 0s - loss: 0.0473 - acc: 0.9859Epoch 1/50\n",
      "100/100 [==============================] - 21s 212ms/step - loss: 0.0469 - acc: 0.9860 - val_loss: 0.2188 - val_acc: 0.9360\n",
      "Epoch 25/50\n",
      " 99/100 [============================>.] - ETA: 0s - loss: 0.0389 - acc: 0.9864Epoch 1/50\n",
      "100/100 [==============================] - 21s 213ms/step - loss: 0.0385 - acc: 0.9865 - val_loss: 0.2273 - val_acc: 0.9460\n",
      "Epoch 26/50\n",
      " 99/100 [============================>.] - ETA: 0s - loss: 0.0377 - acc: 0.9889Epoch 1/50\n",
      "100/100 [==============================] - 21s 209ms/step - loss: 0.0384 - acc: 0.9885 - val_loss: 0.2318 - val_acc: 0.9360\n",
      "Epoch 27/50\n",
      " 99/100 [============================>.] - ETA: 0s - loss: 0.0453 - acc: 0.9879Epoch 1/50\n",
      "100/100 [==============================] - 21s 212ms/step - loss: 0.0454 - acc: 0.9880 - val_loss: 0.2191 - val_acc: 0.9440\n",
      "Epoch 28/50\n",
      " 99/100 [============================>.] - ETA: 0s - loss: 0.0327 - acc: 0.9889Epoch 1/50\n",
      "100/100 [==============================] - 21s 209ms/step - loss: 0.0324 - acc: 0.9890 - val_loss: 0.2398 - val_acc: 0.9390\n",
      "Epoch 29/50\n",
      " 99/100 [============================>.] - ETA: 0s - loss: 0.0395 - acc: 0.9838Epoch 1/50\n",
      "100/100 [==============================] - 21s 213ms/step - loss: 0.0426 - acc: 0.9830 - val_loss: 0.2386 - val_acc: 0.9320\n",
      "Epoch 30/50\n",
      " 99/100 [============================>.] - ETA: 0s - loss: 0.0317 - acc: 0.9874Epoch 1/50\n",
      "100/100 [==============================] - 22s 219ms/step - loss: 0.0314 - acc: 0.9875 - val_loss: 0.2393 - val_acc: 0.9380\n",
      "Epoch 31/50\n",
      " 99/100 [============================>.] - ETA: 0s - loss: 0.0451 - acc: 0.9859Epoch 1/50\n",
      "100/100 [==============================] - 21s 211ms/step - loss: 0.0448 - acc: 0.9860 - val_loss: 0.2666 - val_acc: 0.9320\n",
      "Epoch 32/50\n",
      " 99/100 [============================>.] - ETA: 0s - loss: 0.0237 - acc: 0.9909Epoch 1/50\n",
      "100/100 [==============================] - 21s 214ms/step - loss: 0.0235 - acc: 0.9910 - val_loss: 0.2506 - val_acc: 0.9370\n",
      "Epoch 33/50\n",
      " 99/100 [============================>.] - ETA: 0s - loss: 0.0361 - acc: 0.9843Epoch 1/50\n",
      "100/100 [==============================] - 22s 218ms/step - loss: 0.0357 - acc: 0.9845 - val_loss: 0.2406 - val_acc: 0.9330\n",
      "Epoch 34/50\n",
      " 99/100 [============================>.] - ETA: 0s - loss: 0.0262 - acc: 0.9909Epoch 1/50\n",
      "100/100 [==============================] - 21s 214ms/step - loss: 0.0260 - acc: 0.9910 - val_loss: 0.2367 - val_acc: 0.9370\n",
      "Epoch 35/50\n",
      " 99/100 [============================>.] - ETA: 0s - loss: 0.0302 - acc: 0.9864Epoch 1/50\n",
      "100/100 [==============================] - 21s 214ms/step - loss: 0.0300 - acc: 0.9865 - val_loss: 0.2558 - val_acc: 0.9370\n",
      "Epoch 36/50\n",
      " 99/100 [============================>.] - ETA: 0s - loss: 0.0249 - acc: 0.9934Epoch 1/50\n",
      "100/100 [==============================] - 22s 219ms/step - loss: 0.0257 - acc: 0.9930 - val_loss: 0.2295 - val_acc: 0.9390\n",
      "Epoch 37/50\n",
      " 99/100 [============================>.] - ETA: 0s - loss: 0.0292 - acc: 0.9899Epoch 1/50\n",
      "100/100 [==============================] - 21s 210ms/step - loss: 0.0291 - acc: 0.9900 - val_loss: 0.2362 - val_acc: 0.9350\n",
      "Epoch 38/50\n",
      " 99/100 [============================>.] - ETA: 0s - loss: 0.0290 - acc: 0.9864Epoch 1/50\n",
      "100/100 [==============================] - 21s 214ms/step - loss: 0.0288 - acc: 0.9865 - val_loss: 0.3237 - val_acc: 0.9290\n",
      "Epoch 39/50\n",
      " 99/100 [============================>.] - ETA: 0s - loss: 0.0264 - acc: 0.9904Epoch 1/50\n",
      "100/100 [==============================] - 21s 213ms/step - loss: 0.0263 - acc: 0.9905 - val_loss: 0.3094 - val_acc: 0.9330\n",
      "Epoch 40/50\n",
      " 99/100 [============================>.] - ETA: 0s - loss: 0.0309 - acc: 0.9899Epoch 1/50\n",
      "100/100 [==============================] - 22s 215ms/step - loss: 0.0307 - acc: 0.9900 - val_loss: 0.2454 - val_acc: 0.9350\n",
      "Epoch 41/50\n",
      " 99/100 [============================>.] - ETA: 0s - loss: 0.0318 - acc: 0.9889Epoch 1/50\n",
      "100/100 [==============================] - 22s 220ms/step - loss: 0.0315 - acc: 0.9890 - val_loss: 0.2879 - val_acc: 0.9300\n",
      "Epoch 42/50\n",
      " 99/100 [============================>.] - ETA: 0s - loss: 0.0210 - acc: 0.9939Epoch 1/50\n",
      "100/100 [==============================] - 22s 216ms/step - loss: 0.0210 - acc: 0.9940 - val_loss: 0.3092 - val_acc: 0.9300\n",
      "Epoch 43/50\n",
      " 99/100 [============================>.] - ETA: 0s - loss: 0.0253 - acc: 0.9914Epoch 1/50\n",
      "100/100 [==============================] - 21s 211ms/step - loss: 0.0250 - acc: 0.9915 - val_loss: 0.3151 - val_acc: 0.9300\n",
      "Epoch 44/50\n",
      " 99/100 [============================>.] - ETA: 0s - loss: 0.0304 - acc: 0.9879Epoch 1/50\n",
      "100/100 [==============================] - 22s 217ms/step - loss: 0.0301 - acc: 0.9880 - val_loss: 0.2816 - val_acc: 0.9410\n",
      "Epoch 45/50\n",
      " 99/100 [============================>.] - ETA: 0s - loss: 0.0219 - acc: 0.9919Epoch 1/50\n",
      "100/100 [==============================] - 21s 207ms/step - loss: 0.0218 - acc: 0.9920 - val_loss: 0.2838 - val_acc: 0.9330\n",
      "Epoch 46/50\n",
      " 99/100 [============================>.] - ETA: 0s - loss: 0.0293 - acc: 0.9899Epoch 1/50\n",
      "100/100 [==============================] - 21s 210ms/step - loss: 0.0290 - acc: 0.9900 - val_loss: 0.2846 - val_acc: 0.9370\n",
      "Epoch 47/50\n",
      " 99/100 [============================>.] - ETA: 0s - loss: 0.0322 - acc: 0.9904Epoch 1/50\n",
      "100/100 [==============================] - 21s 213ms/step - loss: 0.0319 - acc: 0.9905 - val_loss: 0.2679 - val_acc: 0.9360\n",
      "Epoch 48/50\n",
      " 99/100 [============================>.] - ETA: 0s - loss: 0.0209 - acc: 0.9929Epoch 1/50\n",
      "100/100 [==============================] - 21s 212ms/step - loss: 0.0210 - acc: 0.9930 - val_loss: 0.3002 - val_acc: 0.9310\n",
      "Epoch 49/50\n",
      " 99/100 [============================>.] - ETA: 0s - loss: 0.0212 - acc: 0.9929Epoch 1/50\n",
      "100/100 [==============================] - 22s 216ms/step - loss: 0.0210 - acc: 0.9930 - val_loss: 0.2993 - val_acc: 0.9400\n",
      "Epoch 50/50\n",
      " 99/100 [============================>.] - ETA: 0s - loss: 0.0297 - acc: 0.9894Epoch 1/50\n",
      "100/100 [==============================] - 22s 220ms/step - loss: 0.0294 - acc: 0.9895 - val_loss: 0.2996 - val_acc: 0.9430\n"
     ]
    }
   ],
   "source": [
    "#Continue to train model to perform fine-tuning\n",
    "history = final_model.fit_generator(train_augmented_generator,\n",
    "                                    steps_per_epoch=100,\n",
    "                                    epochs=50,\n",
    "                                    validation_data=validation_generator,\n",
    "                                    validation_steps=50)"
   ]
  },
  {
   "cell_type": "code",
   "execution_count": 41,
   "metadata": {
    "colab": {
     "base_uri": "https://localhost:8080/",
     "height": 419
    },
    "colab_type": "code",
    "id": "yhnDAZDFKhUV",
    "outputId": "a407c379-0434-4ebc-8814-344cf54aa8f6"
   },
   "outputs": [
    {
     "data": {
      "image/png": "[encoded data removed]",
      "text/plain": [
       "<Figure size 1080x432 with 2 Axes>"
      ]
     },
     "metadata": {
      "tags": []
     },
     "output_type": "display_data"
    }
   ],
   "source": [
    "#Plot accuracy and loss for fine-tuned model with data augmentation\n",
    "train_acc = history.history['acc']\n",
    "validation_acc = history.history['val_acc']\n",
    "train_loss = history.history['loss']\n",
    "validation_loss = history.history['val_loss']\n",
    "\n",
    "epochs = range(1,len(train_acc)+1)\n",
    "\n",
    "fig = plt.figure(figsize=(15,6))\n",
    "#Create accuracy plot\n",
    "fig.add_subplot(1,2,1)\n",
    "plt.plot(epochs, train_acc, 'b-', label='Training Accuracy')\n",
    "plt.plot(epochs, validation_acc, 'g:', label='Validation Accuracy')\n",
    "plt.legend()\n",
    "plt.xlabel('Epochs')\n",
    "plt.ylabel('Model Accuracy')\n",
    "plt.xticks([5,10,15,20,25,30])\n",
    "plt.title('Training and Validation Accuracy\\nof Fine-Tuned Model')\n",
    "fig.add_subplot(1,2,2)\n",
    "#Create loss plot\n",
    "plt.plot(epochs, train_loss, 'b-', label='Training Loss')\n",
    "plt.plot(epochs, validation_loss, 'g:', label='Validation Loss')\n",
    "plt.legend()\n",
    "plt.xlabel('Epochs')\n",
    "plt.ylabel('Model Loss')\n",
    "plt.xticks([5,10,15,20,25,30])\n",
    "plt.title('Training and Validation Loss\\nof Fine-Tuned Model') \n",
    "plt.show()"
   ]
  },
  {
   "cell_type": "code",
   "execution_count": 42,
   "metadata": {
    "colab": {
     "base_uri": "https://localhost:8080/",
     "height": 54
    },
    "colab_type": "code",
    "id": "qfoxIc5wKhUa",
    "outputId": "39135c67-7b10-48a2-a2a1-feb15555c7ff"
   },
   "outputs": [
    {
     "name": "stdout",
     "output_type": "stream",
     "text": [
      "Test Loss for Pre-Trained Model with Data Augmentation and Fine Tuning: 0.3658\n",
      "Test Accuracy for Pre-Trained Model with Data Augmentation and Fine Tuning: 93.10%\n"
     ]
    }
   ],
   "source": [
    "#Evaluate pre-trained model on test data after fine tuning\n",
    "test_loss, test_accuracy = final_model.evaluate_generator(test_generator, steps=50)\n",
    "print('Test Loss for Pre-Trained Model with Data Augmentation and Fine Tuning: {:.4f}'.format(test_loss))\n",
    "print('Test Accuracy for Pre-Trained Model with Data Augmentation and Fine Tuning: {:.2%}'.format(test_accuracy))"
   ]
  }
 ],
 "metadata": {
  "accelerator": "GPU",
  "colab": {
   "collapsed_sections": [],
   "name": "DogsVsCats_PartII.ipynb",
   "provenance": []
  },
  "kernelspec": {
   "display_name": "Python 3",
   "language": "python",
   "name": "python3"
  },
  "language_info": {
   "codemirror_mode": {
    "name": "ipython",
    "version": 3
   },
   "file_extension": ".py",
   "mimetype": "text/x-python",
   "name": "python",
   "nbconvert_exporter": "python",
   "pygments_lexer": "ipython3",
   "version": "3.6.8"
  }
 },
 "nbformat": 4,
 "nbformat_minor": 1
}
